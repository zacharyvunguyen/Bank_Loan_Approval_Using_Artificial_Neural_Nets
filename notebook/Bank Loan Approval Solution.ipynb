{
 "cells": [
  {
   "cell_type": "markdown",
   "source": [
    "## Task 2 - Import Libaries and Datasets"
   ],
   "metadata": {
    "collapsed": false,
    "pycharm": {
     "name": "#%% md\n"
    }
   }
  },
  {
   "cell_type": "code",
   "execution_count": 3,
   "outputs": [],
   "source": [
    "import pandas as pd\n",
    "import matplotlib.pyplot as plt\n",
    "import numpy as np\n",
    "import seaborn as sns\n",
    "\n",
    "import tensorflow as tf\n",
    "from tensorflow import keras\n",
    "from tensorflow.keras.layers import Dense, Activation, Dropout\n",
    "from tensorflow.keras.optimizers import Adam\n",
    "from tensorflow.keras.metrics import Accuracy\n",
    "import matplotlib.pyplot as plt\n",
    "from jupyterthemes import jtplot\n",
    "jtplot.style(theme = 'monokai', context = 'notebook', ticks = True, grid = False)\n",
    "# setting the style of the notebook to be monokai theme\n",
    "# this line of code is important to ensure that we are able to see the x and y axes clearly\n",
    "# If you don't run this code line, you will notice that the xlabel and ylabel on any plot is black on black and it will be hard to see them."
   ],
   "metadata": {
    "collapsed": false,
    "pycharm": {
     "name": "#%%\n"
    }
   }
  },
  {
   "cell_type": "code",
   "execution_count": 4,
   "outputs": [],
   "source": [
    "# Load dataset\n",
    "bank_df= pd.read_csv('../data/UniversalBank.csv')"
   ],
   "metadata": {
    "collapsed": false,
    "pycharm": {
     "name": "#%%\n"
    }
   }
  },
  {
   "cell_type": "code",
   "execution_count": 5,
   "outputs": [
    {
     "data": {
      "text/plain": "   ID  Age  Experience  Income  ZIP Code  Family  CCAvg  Education  Mortgage  \\\n0   1   25           1      49     91107       4    1.6          1         0   \n1   2   45          19      34     90089       3    1.5          1         0   \n2   3   39          15      11     94720       1    1.0          1         0   \n3   4   35           9     100     94112       1    2.7          2         0   \n4   5   35           8      45     91330       4    1.0          2         0   \n\n   Personal Loan  Securities Account  CD Account  Online  CreditCard  \n0              0                   1           0       0           0  \n1              0                   1           0       0           0  \n2              0                   0           0       0           0  \n3              0                   0           0       0           0  \n4              0                   0           0       0           1  ",
      "text/html": "<div>\n<style scoped>\n    .dataframe tbody tr th:only-of-type {\n        vertical-align: middle;\n    }\n\n    .dataframe tbody tr th {\n        vertical-align: top;\n    }\n\n    .dataframe thead th {\n        text-align: right;\n    }\n</style>\n<table border=\"1\" class=\"dataframe\">\n  <thead>\n    <tr style=\"text-align: right;\">\n      <th></th>\n      <th>ID</th>\n      <th>Age</th>\n      <th>Experience</th>\n      <th>Income</th>\n      <th>ZIP Code</th>\n      <th>Family</th>\n      <th>CCAvg</th>\n      <th>Education</th>\n      <th>Mortgage</th>\n      <th>Personal Loan</th>\n      <th>Securities Account</th>\n      <th>CD Account</th>\n      <th>Online</th>\n      <th>CreditCard</th>\n    </tr>\n  </thead>\n  <tbody>\n    <tr>\n      <th>0</th>\n      <td>1</td>\n      <td>25</td>\n      <td>1</td>\n      <td>49</td>\n      <td>91107</td>\n      <td>4</td>\n      <td>1.6</td>\n      <td>1</td>\n      <td>0</td>\n      <td>0</td>\n      <td>1</td>\n      <td>0</td>\n      <td>0</td>\n      <td>0</td>\n    </tr>\n    <tr>\n      <th>1</th>\n      <td>2</td>\n      <td>45</td>\n      <td>19</td>\n      <td>34</td>\n      <td>90089</td>\n      <td>3</td>\n      <td>1.5</td>\n      <td>1</td>\n      <td>0</td>\n      <td>0</td>\n      <td>1</td>\n      <td>0</td>\n      <td>0</td>\n      <td>0</td>\n    </tr>\n    <tr>\n      <th>2</th>\n      <td>3</td>\n      <td>39</td>\n      <td>15</td>\n      <td>11</td>\n      <td>94720</td>\n      <td>1</td>\n      <td>1.0</td>\n      <td>1</td>\n      <td>0</td>\n      <td>0</td>\n      <td>0</td>\n      <td>0</td>\n      <td>0</td>\n      <td>0</td>\n    </tr>\n    <tr>\n      <th>3</th>\n      <td>4</td>\n      <td>35</td>\n      <td>9</td>\n      <td>100</td>\n      <td>94112</td>\n      <td>1</td>\n      <td>2.7</td>\n      <td>2</td>\n      <td>0</td>\n      <td>0</td>\n      <td>0</td>\n      <td>0</td>\n      <td>0</td>\n      <td>0</td>\n    </tr>\n    <tr>\n      <th>4</th>\n      <td>5</td>\n      <td>35</td>\n      <td>8</td>\n      <td>45</td>\n      <td>91330</td>\n      <td>4</td>\n      <td>1.0</td>\n      <td>2</td>\n      <td>0</td>\n      <td>0</td>\n      <td>0</td>\n      <td>0</td>\n      <td>0</td>\n      <td>1</td>\n    </tr>\n  </tbody>\n</table>\n</div>"
     },
     "execution_count": 5,
     "metadata": {},
     "output_type": "execute_result"
    }
   ],
   "source": [
    "#Visualize first 10 rows in the dataset\n",
    "bank_df.head()"
   ],
   "metadata": {
    "collapsed": false,
    "pycharm": {
     "name": "#%%\n"
    }
   }
  },
  {
   "cell_type": "code",
   "execution_count": 6,
   "outputs": [
    {
     "data": {
      "text/plain": "        ID  Age  Experience  Income  ZIP Code  Family  CCAvg  Education  \\\n4990  4991   55          25      58     95023       4   2.00          3   \n4991  4992   51          25      92     91330       1   1.90          2   \n4992  4993   30           5      13     90037       4   0.50          3   \n4993  4994   45          21     218     91801       2   6.67          1   \n4994  4995   64          40      75     94588       3   2.00          3   \n4995  4996   29           3      40     92697       1   1.90          3   \n4996  4997   30           4      15     92037       4   0.40          1   \n4997  4998   63          39      24     93023       2   0.30          3   \n4998  4999   65          40      49     90034       3   0.50          2   \n4999  5000   28           4      83     92612       3   0.80          1   \n\n      Mortgage  Personal Loan  Securities Account  CD Account  Online  \\\n4990       219              0                   0           0       0   \n4991       100              0                   0           0       0   \n4992         0              0                   0           0       0   \n4993         0              0                   0           0       1   \n4994         0              0                   0           0       1   \n4995         0              0                   0           0       1   \n4996        85              0                   0           0       1   \n4997         0              0                   0           0       0   \n4998         0              0                   0           0       1   \n4999         0              0                   0           0       1   \n\n      CreditCard  \n4990           1  \n4991           1  \n4992           0  \n4993           0  \n4994           0  \n4995           0  \n4996           0  \n4997           0  \n4998           0  \n4999           1  ",
      "text/html": "<div>\n<style scoped>\n    .dataframe tbody tr th:only-of-type {\n        vertical-align: middle;\n    }\n\n    .dataframe tbody tr th {\n        vertical-align: top;\n    }\n\n    .dataframe thead th {\n        text-align: right;\n    }\n</style>\n<table border=\"1\" class=\"dataframe\">\n  <thead>\n    <tr style=\"text-align: right;\">\n      <th></th>\n      <th>ID</th>\n      <th>Age</th>\n      <th>Experience</th>\n      <th>Income</th>\n      <th>ZIP Code</th>\n      <th>Family</th>\n      <th>CCAvg</th>\n      <th>Education</th>\n      <th>Mortgage</th>\n      <th>Personal Loan</th>\n      <th>Securities Account</th>\n      <th>CD Account</th>\n      <th>Online</th>\n      <th>CreditCard</th>\n    </tr>\n  </thead>\n  <tbody>\n    <tr>\n      <th>4990</th>\n      <td>4991</td>\n      <td>55</td>\n      <td>25</td>\n      <td>58</td>\n      <td>95023</td>\n      <td>4</td>\n      <td>2.00</td>\n      <td>3</td>\n      <td>219</td>\n      <td>0</td>\n      <td>0</td>\n      <td>0</td>\n      <td>0</td>\n      <td>1</td>\n    </tr>\n    <tr>\n      <th>4991</th>\n      <td>4992</td>\n      <td>51</td>\n      <td>25</td>\n      <td>92</td>\n      <td>91330</td>\n      <td>1</td>\n      <td>1.90</td>\n      <td>2</td>\n      <td>100</td>\n      <td>0</td>\n      <td>0</td>\n      <td>0</td>\n      <td>0</td>\n      <td>1</td>\n    </tr>\n    <tr>\n      <th>4992</th>\n      <td>4993</td>\n      <td>30</td>\n      <td>5</td>\n      <td>13</td>\n      <td>90037</td>\n      <td>4</td>\n      <td>0.50</td>\n      <td>3</td>\n      <td>0</td>\n      <td>0</td>\n      <td>0</td>\n      <td>0</td>\n      <td>0</td>\n      <td>0</td>\n    </tr>\n    <tr>\n      <th>4993</th>\n      <td>4994</td>\n      <td>45</td>\n      <td>21</td>\n      <td>218</td>\n      <td>91801</td>\n      <td>2</td>\n      <td>6.67</td>\n      <td>1</td>\n      <td>0</td>\n      <td>0</td>\n      <td>0</td>\n      <td>0</td>\n      <td>1</td>\n      <td>0</td>\n    </tr>\n    <tr>\n      <th>4994</th>\n      <td>4995</td>\n      <td>64</td>\n      <td>40</td>\n      <td>75</td>\n      <td>94588</td>\n      <td>3</td>\n      <td>2.00</td>\n      <td>3</td>\n      <td>0</td>\n      <td>0</td>\n      <td>0</td>\n      <td>0</td>\n      <td>1</td>\n      <td>0</td>\n    </tr>\n    <tr>\n      <th>4995</th>\n      <td>4996</td>\n      <td>29</td>\n      <td>3</td>\n      <td>40</td>\n      <td>92697</td>\n      <td>1</td>\n      <td>1.90</td>\n      <td>3</td>\n      <td>0</td>\n      <td>0</td>\n      <td>0</td>\n      <td>0</td>\n      <td>1</td>\n      <td>0</td>\n    </tr>\n    <tr>\n      <th>4996</th>\n      <td>4997</td>\n      <td>30</td>\n      <td>4</td>\n      <td>15</td>\n      <td>92037</td>\n      <td>4</td>\n      <td>0.40</td>\n      <td>1</td>\n      <td>85</td>\n      <td>0</td>\n      <td>0</td>\n      <td>0</td>\n      <td>1</td>\n      <td>0</td>\n    </tr>\n    <tr>\n      <th>4997</th>\n      <td>4998</td>\n      <td>63</td>\n      <td>39</td>\n      <td>24</td>\n      <td>93023</td>\n      <td>2</td>\n      <td>0.30</td>\n      <td>3</td>\n      <td>0</td>\n      <td>0</td>\n      <td>0</td>\n      <td>0</td>\n      <td>0</td>\n      <td>0</td>\n    </tr>\n    <tr>\n      <th>4998</th>\n      <td>4999</td>\n      <td>65</td>\n      <td>40</td>\n      <td>49</td>\n      <td>90034</td>\n      <td>3</td>\n      <td>0.50</td>\n      <td>2</td>\n      <td>0</td>\n      <td>0</td>\n      <td>0</td>\n      <td>0</td>\n      <td>1</td>\n      <td>0</td>\n    </tr>\n    <tr>\n      <th>4999</th>\n      <td>5000</td>\n      <td>28</td>\n      <td>4</td>\n      <td>83</td>\n      <td>92612</td>\n      <td>3</td>\n      <td>0.80</td>\n      <td>1</td>\n      <td>0</td>\n      <td>0</td>\n      <td>0</td>\n      <td>0</td>\n      <td>1</td>\n      <td>1</td>\n    </tr>\n  </tbody>\n</table>\n</div>"
     },
     "execution_count": 6,
     "metadata": {},
     "output_type": "execute_result"
    }
   ],
   "source": [
    "#last 10 rows in the dataset\n",
    "bank_df.tail(10)"
   ],
   "metadata": {
    "collapsed": false,
    "pycharm": {
     "name": "#%%\n"
    }
   }
  },
  {
   "cell_type": "code",
   "execution_count": 7,
   "outputs": [
    {
     "name": "stdout",
     "output_type": "stream",
     "text": [
      "There are 5000 samples in the Universal Bank Dataset\n"
     ]
    }
   ],
   "source": [
    "# How many samples are present in the Universal Bank Dataset\n",
    "print('There are ' + str(len(bank_df))+' samples in the Universal Bank Dataset')"
   ],
   "metadata": {
    "collapsed": false,
    "pycharm": {
     "name": "#%%\n"
    }
   }
  },
  {
   "cell_type": "markdown",
   "source": [
    "## Task #3: PERFORM EXPLORATORY DATA ANALYSIS"
   ],
   "metadata": {
    "collapsed": false,
    "pycharm": {
     "name": "#%% md\n"
    }
   }
  },
  {
   "cell_type": "code",
   "execution_count": 8,
   "outputs": [
    {
     "name": "stdout",
     "output_type": "stream",
     "text": [
      "<class 'pandas.core.frame.DataFrame'>\n",
      "RangeIndex: 5000 entries, 0 to 4999\n",
      "Data columns (total 14 columns):\n",
      " #   Column              Non-Null Count  Dtype  \n",
      "---  ------              --------------  -----  \n",
      " 0   ID                  5000 non-null   int64  \n",
      " 1   Age                 5000 non-null   int64  \n",
      " 2   Experience          5000 non-null   int64  \n",
      " 3   Income              5000 non-null   int64  \n",
      " 4   ZIP Code            5000 non-null   int64  \n",
      " 5   Family              5000 non-null   int64  \n",
      " 6   CCAvg               5000 non-null   float64\n",
      " 7   Education           5000 non-null   int64  \n",
      " 8   Mortgage            5000 non-null   int64  \n",
      " 9   Personal Loan       5000 non-null   int64  \n",
      " 10  Securities Account  5000 non-null   int64  \n",
      " 11  CD Account          5000 non-null   int64  \n",
      " 12  Online              5000 non-null   int64  \n",
      " 13  CreditCard          5000 non-null   int64  \n",
      "dtypes: float64(1), int64(13)\n",
      "memory usage: 547.0 KB\n"
     ]
    }
   ],
   "source": [
    "#Obtain dataframe info\n",
    "bank_df.info()\n",
    "# There are no missing elements, no null values in the dataset."
   ],
   "metadata": {
    "collapsed": false,
    "pycharm": {
     "name": "#%%\n"
    }
   }
  },
  {
   "cell_type": "code",
   "execution_count": 9,
   "outputs": [
    {
     "data": {
      "text/plain": "                ID          Age   Experience       Income      ZIP Code  \\\ncount  5000.000000  5000.000000  5000.000000  5000.000000   5000.000000   \nmean   2500.500000    45.338400    20.104600    73.774200  93152.503000   \nstd    1443.520003    11.463166    11.467954    46.033729   2121.852197   \nmin       1.000000    23.000000    -3.000000     8.000000   9307.000000   \n25%    1250.750000    35.000000    10.000000    39.000000  91911.000000   \n50%    2500.500000    45.000000    20.000000    64.000000  93437.000000   \n75%    3750.250000    55.000000    30.000000    98.000000  94608.000000   \nmax    5000.000000    67.000000    43.000000   224.000000  96651.000000   \n\n            Family        CCAvg    Education     Mortgage  Personal Loan  \\\ncount  5000.000000  5000.000000  5000.000000  5000.000000    5000.000000   \nmean      2.396400     1.937938     1.881000    56.498800       0.096000   \nstd       1.147663     1.747659     0.839869   101.713802       0.294621   \nmin       1.000000     0.000000     1.000000     0.000000       0.000000   \n25%       1.000000     0.700000     1.000000     0.000000       0.000000   \n50%       2.000000     1.500000     2.000000     0.000000       0.000000   \n75%       3.000000     2.500000     3.000000   101.000000       0.000000   \nmax       4.000000    10.000000     3.000000   635.000000       1.000000   \n\n       Securities Account  CD Account       Online   CreditCard  \ncount         5000.000000  5000.00000  5000.000000  5000.000000  \nmean             0.104400     0.06040     0.596800     0.294000  \nstd              0.305809     0.23825     0.490589     0.455637  \nmin              0.000000     0.00000     0.000000     0.000000  \n25%              0.000000     0.00000     0.000000     0.000000  \n50%              0.000000     0.00000     1.000000     0.000000  \n75%              0.000000     0.00000     1.000000     1.000000  \nmax              1.000000     1.00000     1.000000     1.000000  ",
      "text/html": "<div>\n<style scoped>\n    .dataframe tbody tr th:only-of-type {\n        vertical-align: middle;\n    }\n\n    .dataframe tbody tr th {\n        vertical-align: top;\n    }\n\n    .dataframe thead th {\n        text-align: right;\n    }\n</style>\n<table border=\"1\" class=\"dataframe\">\n  <thead>\n    <tr style=\"text-align: right;\">\n      <th></th>\n      <th>ID</th>\n      <th>Age</th>\n      <th>Experience</th>\n      <th>Income</th>\n      <th>ZIP Code</th>\n      <th>Family</th>\n      <th>CCAvg</th>\n      <th>Education</th>\n      <th>Mortgage</th>\n      <th>Personal Loan</th>\n      <th>Securities Account</th>\n      <th>CD Account</th>\n      <th>Online</th>\n      <th>CreditCard</th>\n    </tr>\n  </thead>\n  <tbody>\n    <tr>\n      <th>count</th>\n      <td>5000.000000</td>\n      <td>5000.000000</td>\n      <td>5000.000000</td>\n      <td>5000.000000</td>\n      <td>5000.000000</td>\n      <td>5000.000000</td>\n      <td>5000.000000</td>\n      <td>5000.000000</td>\n      <td>5000.000000</td>\n      <td>5000.000000</td>\n      <td>5000.000000</td>\n      <td>5000.00000</td>\n      <td>5000.000000</td>\n      <td>5000.000000</td>\n    </tr>\n    <tr>\n      <th>mean</th>\n      <td>2500.500000</td>\n      <td>45.338400</td>\n      <td>20.104600</td>\n      <td>73.774200</td>\n      <td>93152.503000</td>\n      <td>2.396400</td>\n      <td>1.937938</td>\n      <td>1.881000</td>\n      <td>56.498800</td>\n      <td>0.096000</td>\n      <td>0.104400</td>\n      <td>0.06040</td>\n      <td>0.596800</td>\n      <td>0.294000</td>\n    </tr>\n    <tr>\n      <th>std</th>\n      <td>1443.520003</td>\n      <td>11.463166</td>\n      <td>11.467954</td>\n      <td>46.033729</td>\n      <td>2121.852197</td>\n      <td>1.147663</td>\n      <td>1.747659</td>\n      <td>0.839869</td>\n      <td>101.713802</td>\n      <td>0.294621</td>\n      <td>0.305809</td>\n      <td>0.23825</td>\n      <td>0.490589</td>\n      <td>0.455637</td>\n    </tr>\n    <tr>\n      <th>min</th>\n      <td>1.000000</td>\n      <td>23.000000</td>\n      <td>-3.000000</td>\n      <td>8.000000</td>\n      <td>9307.000000</td>\n      <td>1.000000</td>\n      <td>0.000000</td>\n      <td>1.000000</td>\n      <td>0.000000</td>\n      <td>0.000000</td>\n      <td>0.000000</td>\n      <td>0.00000</td>\n      <td>0.000000</td>\n      <td>0.000000</td>\n    </tr>\n    <tr>\n      <th>25%</th>\n      <td>1250.750000</td>\n      <td>35.000000</td>\n      <td>10.000000</td>\n      <td>39.000000</td>\n      <td>91911.000000</td>\n      <td>1.000000</td>\n      <td>0.700000</td>\n      <td>1.000000</td>\n      <td>0.000000</td>\n      <td>0.000000</td>\n      <td>0.000000</td>\n      <td>0.00000</td>\n      <td>0.000000</td>\n      <td>0.000000</td>\n    </tr>\n    <tr>\n      <th>50%</th>\n      <td>2500.500000</td>\n      <td>45.000000</td>\n      <td>20.000000</td>\n      <td>64.000000</td>\n      <td>93437.000000</td>\n      <td>2.000000</td>\n      <td>1.500000</td>\n      <td>2.000000</td>\n      <td>0.000000</td>\n      <td>0.000000</td>\n      <td>0.000000</td>\n      <td>0.00000</td>\n      <td>1.000000</td>\n      <td>0.000000</td>\n    </tr>\n    <tr>\n      <th>75%</th>\n      <td>3750.250000</td>\n      <td>55.000000</td>\n      <td>30.000000</td>\n      <td>98.000000</td>\n      <td>94608.000000</td>\n      <td>3.000000</td>\n      <td>2.500000</td>\n      <td>3.000000</td>\n      <td>101.000000</td>\n      <td>0.000000</td>\n      <td>0.000000</td>\n      <td>0.00000</td>\n      <td>1.000000</td>\n      <td>1.000000</td>\n    </tr>\n    <tr>\n      <th>max</th>\n      <td>5000.000000</td>\n      <td>67.000000</td>\n      <td>43.000000</td>\n      <td>224.000000</td>\n      <td>96651.000000</td>\n      <td>4.000000</td>\n      <td>10.000000</td>\n      <td>3.000000</td>\n      <td>635.000000</td>\n      <td>1.000000</td>\n      <td>1.000000</td>\n      <td>1.00000</td>\n      <td>1.000000</td>\n      <td>1.000000</td>\n    </tr>\n  </tbody>\n</table>\n</div>"
     },
     "execution_count": 9,
     "metadata": {},
     "output_type": "execute_result"
    }
   ],
   "source": [
    "# Obtain the statistical summary of the dataset\n",
    "bank_df.describe()"
   ],
   "metadata": {
    "collapsed": false,
    "pycharm": {
     "name": "#%%\n"
    }
   }
  },
  {
   "cell_type": "code",
   "execution_count": 10,
   "outputs": [
    {
     "data": {
      "text/plain": "                     count          mean          std     min       25%  \\\nID                  5000.0   2500.500000  1443.520003     1.0   1250.75   \nAge                 5000.0     45.338400    11.463166    23.0     35.00   \nExperience          5000.0     20.104600    11.467954    -3.0     10.00   \nIncome              5000.0     73.774200    46.033729     8.0     39.00   \nZIP Code            5000.0  93152.503000  2121.852197  9307.0  91911.00   \nFamily              5000.0      2.396400     1.147663     1.0      1.00   \nCCAvg               5000.0      1.937938     1.747659     0.0      0.70   \nEducation           5000.0      1.881000     0.839869     1.0      1.00   \nMortgage            5000.0     56.498800   101.713802     0.0      0.00   \nPersonal Loan       5000.0      0.096000     0.294621     0.0      0.00   \nSecurities Account  5000.0      0.104400     0.305809     0.0      0.00   \nCD Account          5000.0      0.060400     0.238250     0.0      0.00   \nOnline              5000.0      0.596800     0.490589     0.0      0.00   \nCreditCard          5000.0      0.294000     0.455637     0.0      0.00   \n\n                        50%       75%      max  \nID                   2500.5   3750.25   5000.0  \nAge                    45.0     55.00     67.0  \nExperience             20.0     30.00     43.0  \nIncome                 64.0     98.00    224.0  \nZIP Code            93437.0  94608.00  96651.0  \nFamily                  2.0      3.00      4.0  \nCCAvg                   1.5      2.50     10.0  \nEducation               2.0      3.00      3.0  \nMortgage                0.0    101.00    635.0  \nPersonal Loan           0.0      0.00      1.0  \nSecurities Account      0.0      0.00      1.0  \nCD Account              0.0      0.00      1.0  \nOnline                  1.0      1.00      1.0  \nCreditCard              0.0      1.00      1.0  ",
      "text/html": "<div>\n<style scoped>\n    .dataframe tbody tr th:only-of-type {\n        vertical-align: middle;\n    }\n\n    .dataframe tbody tr th {\n        vertical-align: top;\n    }\n\n    .dataframe thead th {\n        text-align: right;\n    }\n</style>\n<table border=\"1\" class=\"dataframe\">\n  <thead>\n    <tr style=\"text-align: right;\">\n      <th></th>\n      <th>count</th>\n      <th>mean</th>\n      <th>std</th>\n      <th>min</th>\n      <th>25%</th>\n      <th>50%</th>\n      <th>75%</th>\n      <th>max</th>\n    </tr>\n  </thead>\n  <tbody>\n    <tr>\n      <th>ID</th>\n      <td>5000.0</td>\n      <td>2500.500000</td>\n      <td>1443.520003</td>\n      <td>1.0</td>\n      <td>1250.75</td>\n      <td>2500.5</td>\n      <td>3750.25</td>\n      <td>5000.0</td>\n    </tr>\n    <tr>\n      <th>Age</th>\n      <td>5000.0</td>\n      <td>45.338400</td>\n      <td>11.463166</td>\n      <td>23.0</td>\n      <td>35.00</td>\n      <td>45.0</td>\n      <td>55.00</td>\n      <td>67.0</td>\n    </tr>\n    <tr>\n      <th>Experience</th>\n      <td>5000.0</td>\n      <td>20.104600</td>\n      <td>11.467954</td>\n      <td>-3.0</td>\n      <td>10.00</td>\n      <td>20.0</td>\n      <td>30.00</td>\n      <td>43.0</td>\n    </tr>\n    <tr>\n      <th>Income</th>\n      <td>5000.0</td>\n      <td>73.774200</td>\n      <td>46.033729</td>\n      <td>8.0</td>\n      <td>39.00</td>\n      <td>64.0</td>\n      <td>98.00</td>\n      <td>224.0</td>\n    </tr>\n    <tr>\n      <th>ZIP Code</th>\n      <td>5000.0</td>\n      <td>93152.503000</td>\n      <td>2121.852197</td>\n      <td>9307.0</td>\n      <td>91911.00</td>\n      <td>93437.0</td>\n      <td>94608.00</td>\n      <td>96651.0</td>\n    </tr>\n    <tr>\n      <th>Family</th>\n      <td>5000.0</td>\n      <td>2.396400</td>\n      <td>1.147663</td>\n      <td>1.0</td>\n      <td>1.00</td>\n      <td>2.0</td>\n      <td>3.00</td>\n      <td>4.0</td>\n    </tr>\n    <tr>\n      <th>CCAvg</th>\n      <td>5000.0</td>\n      <td>1.937938</td>\n      <td>1.747659</td>\n      <td>0.0</td>\n      <td>0.70</td>\n      <td>1.5</td>\n      <td>2.50</td>\n      <td>10.0</td>\n    </tr>\n    <tr>\n      <th>Education</th>\n      <td>5000.0</td>\n      <td>1.881000</td>\n      <td>0.839869</td>\n      <td>1.0</td>\n      <td>1.00</td>\n      <td>2.0</td>\n      <td>3.00</td>\n      <td>3.0</td>\n    </tr>\n    <tr>\n      <th>Mortgage</th>\n      <td>5000.0</td>\n      <td>56.498800</td>\n      <td>101.713802</td>\n      <td>0.0</td>\n      <td>0.00</td>\n      <td>0.0</td>\n      <td>101.00</td>\n      <td>635.0</td>\n    </tr>\n    <tr>\n      <th>Personal Loan</th>\n      <td>5000.0</td>\n      <td>0.096000</td>\n      <td>0.294621</td>\n      <td>0.0</td>\n      <td>0.00</td>\n      <td>0.0</td>\n      <td>0.00</td>\n      <td>1.0</td>\n    </tr>\n    <tr>\n      <th>Securities Account</th>\n      <td>5000.0</td>\n      <td>0.104400</td>\n      <td>0.305809</td>\n      <td>0.0</td>\n      <td>0.00</td>\n      <td>0.0</td>\n      <td>0.00</td>\n      <td>1.0</td>\n    </tr>\n    <tr>\n      <th>CD Account</th>\n      <td>5000.0</td>\n      <td>0.060400</td>\n      <td>0.238250</td>\n      <td>0.0</td>\n      <td>0.00</td>\n      <td>0.0</td>\n      <td>0.00</td>\n      <td>1.0</td>\n    </tr>\n    <tr>\n      <th>Online</th>\n      <td>5000.0</td>\n      <td>0.596800</td>\n      <td>0.490589</td>\n      <td>0.0</td>\n      <td>0.00</td>\n      <td>1.0</td>\n      <td>1.00</td>\n      <td>1.0</td>\n    </tr>\n    <tr>\n      <th>CreditCard</th>\n      <td>5000.0</td>\n      <td>0.294000</td>\n      <td>0.455637</td>\n      <td>0.0</td>\n      <td>0.00</td>\n      <td>0.0</td>\n      <td>1.00</td>\n      <td>1.0</td>\n    </tr>\n  </tbody>\n</table>\n</div>"
     },
     "execution_count": 10,
     "metadata": {},
     "output_type": "execute_result"
    }
   ],
   "source": [
    "# For better visualization\n",
    "bank_df.describe().T"
   ],
   "metadata": {
    "collapsed": false,
    "pycharm": {
     "name": "#%%\n"
    }
   }
  },
  {
   "cell_type": "code",
   "execution_count": 12,
   "outputs": [
    {
     "data": {
      "text/plain": "ID                    0\nAge                   0\nExperience            0\nIncome                0\nZIP Code              0\nFamily                0\nCCAvg                 0\nEducation             0\nMortgage              0\nPersonal Loan         0\nSecurities Account    0\nCD Account            0\nOnline                0\nCreditCard            0\ndtype: int64"
     },
     "execution_count": 12,
     "metadata": {},
     "output_type": "execute_result"
    }
   ],
   "source": [
    "# See how many null values  exist  in the dataframe\n",
    "bank_df.isnull().sum()"
   ],
   "metadata": {
    "collapsed": false,
    "pycharm": {
     "name": "#%%\n"
    }
   }
  },
  {
   "cell_type": "code",
   "execution_count": 20,
   "outputs": [
    {
     "name": "stdout",
     "output_type": "stream",
     "text": [
      "The average age in the dataset is 45.3384\n"
     ]
    }
   ],
   "source": [
    "# What is the average age in the dataset?\n",
    "print(\"The average age in the dataset is \" + str(bank_df[\"Age\"].mean()))"
   ],
   "metadata": {
    "collapsed": false,
    "pycharm": {
     "name": "#%%\n"
    }
   }
  },
  {
   "cell_type": "code",
   "execution_count": 35,
   "outputs": [
    {
     "name": "stdout",
     "output_type": "stream",
     "text": [
      "Number of customers who have credit cards: 1470\n",
      "Total number of customers: 5000\n",
      "% of customers who have credit card:  29.4 %\n"
     ]
    }
   ],
   "source": [
    "# What is the % of customers who have credit cards?\n",
    "# Number of customers who have credit cards:\n",
    "creditCard_cumtomers=bank_df[bank_df['CreditCard']==1]\n",
    "print('Number of customers who have credit cards: '+ str(len(creditCard_cumtomers)))\n",
    "# Total number of customers\n",
    "len(bank_df)\n",
    "print('Total number of customers: '+ str(len(bank_df)))\n",
    "# % of customers who have credit card:\n",
    "percentage_cc_customer=len(creditCard_cumtomers)/len(bank_df) * 100\n",
    "print('% of customers who have credit card: ',percentage_cc_customer,'%')\n"
   ],
   "metadata": {
    "collapsed": false,
    "pycharm": {
     "name": "#%%\n"
    }
   }
  },
  {
   "cell_type": "code",
   "execution_count": 34,
   "outputs": [
    {
     "name": "stdout",
     "output_type": "stream",
     "text": [
      "Number of customers who have personal loan: 480\n",
      "Total number of customers: 5000\n",
      "% of customers who have personal loan: 9.6 %\n"
     ]
    }
   ],
   "source": [
    "# What is the % of customers who accepted the personal loan?\n",
    "# Number of customers who have credit cards:\n",
    "pl_cumtomers=bank_df[bank_df['Personal Loan']==1]\n",
    "print('Number of customers who have personal loan: '+ str(len(pl_cumtomers)))\n",
    "# Total number of customers\n",
    "len(bank_df)\n",
    "print('Total number of customers: '+ str(len(bank_df)))\n",
    "# % of customers who have personal loan:\n",
    "percentage_pl_customer=len(pl_cumtomers)/len(bank_df) * 100\n",
    "print('% of customers who have personal loan:',percentage_pl_customer,'%')"
   ],
   "metadata": {
    "collapsed": false,
    "pycharm": {
     "name": "#%%\n"
    }
   }
  },
  {
   "cell_type": "code",
   "execution_count": null,
   "outputs": [],
   "source": [],
   "metadata": {
    "collapsed": false,
    "pycharm": {
     "name": "#%%\n"
    }
   }
  }
 ],
 "metadata": {
  "kernelspec": {
   "display_name": "Python 3",
   "language": "python",
   "name": "python3"
  },
  "language_info": {
   "codemirror_mode": {
    "name": "ipython",
    "version": 2
   },
   "file_extension": ".py",
   "mimetype": "text/x-python",
   "name": "python",
   "nbconvert_exporter": "python",
   "pygments_lexer": "ipython2",
   "version": "2.7.6"
  }
 },
 "nbformat": 4,
 "nbformat_minor": 0
}